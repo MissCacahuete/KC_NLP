{
 "cells": [
  {
   "cell_type": "markdown",
   "metadata": {},
   "source": [
    "Creamos un fichero que va a juntar los daros de 4 datasets y los mezclamos y unimos en uno solo"
   ]
  },
  {
   "cell_type": "code",
   "execution_count": 10,
   "metadata": {},
   "outputs": [],
   "source": [
    "import random\n",
    "import pandas as pd\n",
    "\n",
    "import gensim\n",
    "from gensim.corpora import Dictionary\n",
    "from gensim.models import LdaModel, CoherenceModel\n",
    "\n",
    "import pyLDAvis\n",
    "import pyLDAvis.gensim\n",
    "import matplotlib.pyplot as plt\n",
    "\n",
    "from sklearn.utils import shuffle"
   ]
  },
  {
   "cell_type": "code",
   "execution_count": 11,
   "metadata": {},
   "outputs": [],
   "source": [
    "def read_trunc(file,limit=9000):\n",
    "    data = pd.read_json(file, lines=True)\n",
    "    data = data.truncate(after=limit)\n",
    "    data = data[[\"helpful\",\"reviewText\",\"overall\"]]\n",
    "    data['category'] = file[22:].replace(\"_5.json.gz\",\"\")\n",
    "    return data\n"
   ]
  },
  {
   "cell_type": "code",
   "execution_count": 17,
   "metadata": {},
   "outputs": [],
   "source": [
    "data= read_trunc(\"../../Dataset/reviews_Patio_Lawn_and_Garden_5.json.gz\")\n",
    "data1= read_trunc(\"../../Dataset/reviews_Office_Products_5.json.gz\")\n",
    "data2 = read_trunc(\"../../Dataset/reviews_Musical_Instruments_5.json.gz\")\n",
    "data3 = read_trunc(\"../../Dataset/reviews_Automotive_5.json.gz\")\n",
    "\n",
    "data= shuffle(pd.concat([data, data1, data2, data3], ignore_index=True))"
   ]
  },
  {
   "cell_type": "code",
   "execution_count": 18,
   "metadata": {
    "scrolled": true
   },
   "outputs": [
    {
     "data": {
      "text/html": [
       "<div>\n",
       "<style scoped>\n",
       "    .dataframe tbody tr th:only-of-type {\n",
       "        vertical-align: middle;\n",
       "    }\n",
       "\n",
       "    .dataframe tbody tr th {\n",
       "        vertical-align: top;\n",
       "    }\n",
       "\n",
       "    .dataframe thead th {\n",
       "        text-align: right;\n",
       "    }\n",
       "</style>\n",
       "<table border=\"1\" class=\"dataframe\">\n",
       "  <thead>\n",
       "    <tr style=\"text-align: right;\">\n",
       "      <th></th>\n",
       "      <th>helpful</th>\n",
       "      <th>reviewText</th>\n",
       "      <th>overall</th>\n",
       "      <th>category</th>\n",
       "    </tr>\n",
       "  </thead>\n",
       "  <tbody>\n",
       "    <tr>\n",
       "      <td>24435</td>\n",
       "      <td>[4, 4]</td>\n",
       "      <td>This is a fantastic product that is well made....</td>\n",
       "      <td>1</td>\n",
       "      <td>Musical_Instruments</td>\n",
       "    </tr>\n",
       "    <tr>\n",
       "      <td>1497</td>\n",
       "      <td>[2, 3]</td>\n",
       "      <td>I was never able to get this to extend and tha...</td>\n",
       "      <td>1</td>\n",
       "      <td>Patio_Lawn_and_Garden</td>\n",
       "    </tr>\n",
       "    <tr>\n",
       "      <td>31592</td>\n",
       "      <td>[0, 0]</td>\n",
       "      <td>It arrived quickly and good packing. but I hav...</td>\n",
       "      <td>5</td>\n",
       "      <td>Automotive</td>\n",
       "    </tr>\n",
       "    <tr>\n",
       "      <td>9860</td>\n",
       "      <td>[0, 0]</td>\n",
       "      <td>prints are sharp with great color saturation. ...</td>\n",
       "      <td>5</td>\n",
       "      <td>Office_Products</td>\n",
       "    </tr>\n",
       "    <tr>\n",
       "      <td>25005</td>\n",
       "      <td>[7, 7]</td>\n",
       "      <td>I used to buy a lot of wire form these guys......</td>\n",
       "      <td>1</td>\n",
       "      <td>Musical_Instruments</td>\n",
       "    </tr>\n",
       "  </tbody>\n",
       "</table>\n",
       "</div>"
      ],
      "text/plain": [
       "      helpful                                         reviewText  overall  \\\n",
       "24435  [4, 4]  This is a fantastic product that is well made....        1   \n",
       "1497   [2, 3]  I was never able to get this to extend and tha...        1   \n",
       "31592  [0, 0]  It arrived quickly and good packing. but I hav...        5   \n",
       "9860   [0, 0]  prints are sharp with great color saturation. ...        5   \n",
       "25005  [7, 7]  I used to buy a lot of wire form these guys......        1   \n",
       "\n",
       "                    category  \n",
       "24435    Musical_Instruments  \n",
       "1497   Patio_Lawn_and_Garden  \n",
       "31592             Automotive  \n",
       "9860         Office_Products  \n",
       "25005    Musical_Instruments  "
      ]
     },
     "execution_count": 18,
     "metadata": {},
     "output_type": "execute_result"
    }
   ],
   "source": [
    "data.head()"
   ]
  },
  {
   "cell_type": "code",
   "execution_count": 19,
   "metadata": {},
   "outputs": [],
   "source": [
    "data.to_csv('../../Dataset/data.csv',index=False)"
   ]
  }
 ],
 "metadata": {
  "kernelspec": {
   "display_name": "Python 3",
   "language": "python",
   "name": "python3"
  },
  "language_info": {
   "codemirror_mode": {
    "name": "ipython",
    "version": 3
   },
   "file_extension": ".py",
   "mimetype": "text/x-python",
   "name": "python",
   "nbconvert_exporter": "python",
   "pygments_lexer": "ipython3",
   "version": "3.7.4"
  }
 },
 "nbformat": 4,
 "nbformat_minor": 2
}
